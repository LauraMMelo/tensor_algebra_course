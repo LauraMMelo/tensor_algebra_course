{
 "cells": [
  {
   "cell_type": "code",
   "execution_count": 13,
   "metadata": {},
   "outputs": [],
   "source": [
    "import numpy as np\n",
    "import tensorly as tl\n",
    "from tensorly.tenalg import mode_dot\n",
    "from numpy.random import randn, rand, randint\n",
    "import time"
   ]
  },
  {
   "cell_type": "markdown",
   "metadata": {},
   "source": [
    "## Defining a random tensor A"
   ]
  },
  {
   "cell_type": "code",
   "execution_count": 55,
   "metadata": {
    "scrolled": true
   },
   "outputs": [
    {
     "data": {
      "text/plain": [
       "array([[[ 1.76405235+1.62434536j,  0.40015721-0.61175641j,\n",
       "          0.97873798-0.52817175j,  2.2408932 -1.07296862j],\n",
       "        [ 1.86755799+0.86540763j, -0.97727788-2.3015387j ,\n",
       "          0.95008842+1.74481176j, -0.15135721-0.7612069j ],\n",
       "        [-0.10321885+0.3190391j ,  0.4105985 -0.24937038j,\n",
       "          0.14404357+1.46210794j,  1.45427351-2.06014071j]],\n",
       "\n",
       "       [[ 0.76103773-0.3224172j ,  0.12167502-0.38405435j,\n",
       "          0.44386323+1.13376944j,  0.33367433-1.09989127j],\n",
       "        [ 1.49407907-0.17242821j, -0.20515826-0.87785842j,\n",
       "          0.3130677 +0.04221375j, -0.85409574+0.58281521j],\n",
       "        [-2.55298982-1.10061918j,  0.6536186 +1.14472371j,\n",
       "          0.8644362 +0.90159072j, -0.74216502+0.50249434j]]])"
      ]
     },
     "execution_count": 55,
     "metadata": {},
     "output_type": "execute_result"
    }
   ],
   "source": [
    "np.random.seed(0)\n",
    "shape = (2, 3, 4)\n",
    "\n",
    "A = randn(shape[0], shape[1], shape[2])\n",
    "\n",
    "np.random.seed(1)\n",
    "A = A + randn(shape[0], shape[1], shape[2])*1j\n",
    "A"
   ]
  },
  {
   "cell_type": "code",
   "execution_count": 80,
   "metadata": {},
   "outputs": [],
   "source": [
    "# for i in A[0]:\n",
    "#     print(\"{} & {} & {} & {} \\\\\\\\\".format(\n",
    "#         str(round(i[0], 1)).strip('(').strip(')'), \n",
    "#         str(round(i[1], 1)).strip('(').strip(')'),\n",
    "#         str(round(i[2], 1)).strip('(').strip(')'),\n",
    "#         str(round(i[3], 1)).strip('(').strip(')')))"
   ]
  },
  {
   "cell_type": "markdown",
   "metadata": {},
   "source": [
    "# Unfolding"
   ]
  },
  {
   "cell_type": "code",
   "execution_count": 27,
   "metadata": {},
   "outputs": [],
   "source": [
    "def unfold(A, n):\n",
    "    '''Outputs the n-mode unfolding of A\n",
    "    Inputs:\n",
    "    -------\n",
    "        A: Tensor (nd.array)\n",
    "        n: the n-mode of the unfold (int)\n",
    "        \n",
    "    Outputs:\n",
    "    --------\n",
    "        X: n-mode unfolding matrix of A (nd.array)\n",
    "    '''\n",
    "    \n",
    "    C = np.concatenate([np.arange(0, n), np.arange(n+1, A.ndim)])\n",
    "\n",
    "    M = A.shape[n]\n",
    "    N = np.prod([A.shape[i] for i in C])\n",
    "\n",
    "    X = np.reshape(np.transpose(A, np.concatenate([[n], C])), (M, N))\n",
    "    \n",
    "    return X"
   ]
  },
  {
   "cell_type": "code",
   "execution_count": 86,
   "metadata": {},
   "outputs": [],
   "source": [
    "for n in range(A.ndim):\n",
    "    assert tl.unfold(tl.tensor(A), n).all() == unfold(A, n).all()"
   ]
  },
  {
   "cell_type": "code",
   "execution_count": 79,
   "metadata": {},
   "outputs": [],
   "source": [
    "# for i in unfold(A, 2):\n",
    "#     print(\"{} & {} & {} & {} & {} & {} \\\\\\\\\".format(\n",
    "#         str(round(i[0], 1)).strip('(').strip(')'), \n",
    "#         str(round(i[1], 1)).strip('(').strip(')'),\n",
    "#         str(round(i[2], 1)).strip('(').strip(')'),\n",
    "#         str(round(i[3], 1)).strip('(').strip(')'),\n",
    "#         str(round(i[4], 1)).strip('(').strip(')'),\n",
    "#         str(round(i[5], 1)).strip('(').strip(')')))"
   ]
  },
  {
   "cell_type": "markdown",
   "metadata": {},
   "source": [
    "# Folding"
   ]
  },
  {
   "cell_type": "code",
   "execution_count": 17,
   "metadata": {},
   "outputs": [],
   "source": [
    "def fold(unfolded_A, n, shape):\n",
    "    '''Folds a unfolded tensor back to tensor form\n",
    "    \n",
    "    Inputs:\n",
    "    -------\n",
    "        unfolded_A: n-mode unfolded tensor matrix (nd.array)\n",
    "        n: n-mode of the unfolding (int)\n",
    "        shape: original shape of the tensor (tuple)\n",
    "        \n",
    "    Outputs:\n",
    "    --------\n",
    "        X = Folded matrix A in tensor format (nd.array)\n",
    "    '''\n",
    "    C = np.concatenate([np.arange(0, n), np.arange(n+1, len(shape))])\n",
    "\n",
    "    new_shape = []\n",
    "    new_shape.append(shape[n])\n",
    "    for item in [shape[i] for i in C]:\n",
    "        new_shape.append(item)\n",
    "        \n",
    "\n",
    "    A = unfolded_A.reshape(tuple(new_shape))\n",
    "\n",
    "    X = np.moveaxis(A, 0, n)\n",
    "    \n",
    "    return X"
   ]
  },
  {
   "cell_type": "code",
   "execution_count": 89,
   "metadata": {},
   "outputs": [],
   "source": [
    "for n in range(A.ndim):\n",
    "    unfolded_A = unfold(A, n)\n",
    "    assert tl.fold(unfolded_A, n, shape).all() == fold(unfolded_A, n, shape).all()"
   ]
  },
  {
   "cell_type": "markdown",
   "metadata": {},
   "source": [
    "# n-mode Product"
   ]
  },
  {
   "cell_type": "code",
   "execution_count": 19,
   "metadata": {},
   "outputs": [],
   "source": [
    "def n_mode_product(A, U, n):\n",
    "    y_shape = list(A.shape)\n",
    "    y_shape[n] = U.shape[0]\n",
    "    \n",
    "    unfolded_Y = np.matmul(U, unfold(A, n))\n",
    "    \n",
    "    Y = fold(unfolded_Y, n, tuple(y_shape))\n",
    "    \n",
    "    return Y"
   ]
  },
  {
   "cell_type": "code",
   "execution_count": 107,
   "metadata": {},
   "outputs": [],
   "source": [
    "P, Q, R = 2, 3, 4\n",
    "I, J, K = 5, 6, 7\n",
    "\n",
    "np.random.seed(0)\n",
    "\n",
    "A = randn(P, I)\n",
    "B = randn(Q, J)\n",
    "C = randn(R, K)\n",
    "X = randn(I, J, K)\n",
    "\n",
    "np.random.seed(1)\n",
    "\n",
    "A = A + randn(P, I)*1j\n",
    "B = B + randn(Q, J)*1j\n",
    "C = C + randn(R, K)*1j\n",
    "X = X + randn(I, J, K)*1j"
   ]
  },
  {
   "cell_type": "code",
   "execution_count": 121,
   "metadata": {},
   "outputs": [],
   "source": [
    "Y = n_mode_product(n_mode_product(n_mode_product(X, A, 0), B, 1), C, 2)\n",
    "Y_tl = mode_dot(mode_dot(mode_dot(X, A, 0), B, 1), C, 2)\n",
    "\n",
    "assert Y.all() == Y_tl.all()"
   ]
  },
  {
   "cell_type": "code",
   "execution_count": 119,
   "metadata": {},
   "outputs": [],
   "source": [
    "# for i in mode_dot(mode_dot(mode_dot(X, A, 0), B, 1), C, 2)[0]:\n",
    "#     print(\"{} & {} & {} & {} \\\\\\\\\".format(\n",
    "#         str(round(i[0], 1)).strip('(').strip(')'), \n",
    "#         str(round(i[1], 1)).strip('(').strip(')'),\n",
    "#         str(round(i[2], 1)).strip('(').strip(')'),\n",
    "#         str(round(i[3], 1)).strip('(').strip(')')))"
   ]
  },
  {
   "cell_type": "code",
   "execution_count": 120,
   "metadata": {},
   "outputs": [],
   "source": [
    "# for i in C:\n",
    "#     print(\"{} & {} & {} & {} & {} & {} & {} \\\\\\\\\".format(\n",
    "#         str(round(i[0], 1)).strip('(').strip(')'), \n",
    "#         str(round(i[1], 1)).strip('(').strip(')'),\n",
    "#         str(round(i[2], 1)).strip('(').strip(')'),\n",
    "#         str(round(i[3], 1)).strip('(').strip(')'), \n",
    "#         str(round(i[4], 1)).strip('(').strip(')'),\n",
    "#         str(round(i[5], 1)).strip('(').strip(')'),\n",
    "#         str(round(i[6], 1)).strip('(').strip(')')))"
   ]
  },
  {
   "cell_type": "code",
   "execution_count": null,
   "metadata": {},
   "outputs": [],
   "source": []
  }
 ],
 "metadata": {
  "kernelspec": {
   "display_name": "Python 3",
   "language": "python",
   "name": "python3"
  },
  "language_info": {
   "codemirror_mode": {
    "name": "ipython",
    "version": 3
   },
   "file_extension": ".py",
   "mimetype": "text/x-python",
   "name": "python",
   "nbconvert_exporter": "python",
   "pygments_lexer": "ipython3",
   "version": "3.7.6"
  }
 },
 "nbformat": 4,
 "nbformat_minor": 4
}
