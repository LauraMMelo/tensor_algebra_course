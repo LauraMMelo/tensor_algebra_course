{
 "cells": [
  {
   "cell_type": "code",
   "execution_count": 15,
   "metadata": {},
   "outputs": [],
   "source": [
    "import numpy as np\n",
    "import tensorly as tl\n",
    "\n",
    "def khatri_rao(A, B):\n",
    "    assert A.shape[1] == B.shape[1]\n",
    "    \n",
    "    A = A.T\n",
    "    B = B.T\n",
    "\n",
    "    result = []\n",
    "\n",
    "    for Ai in range(0, len(A)):\n",
    "        for Bi in range(0, len(B)):\n",
    "            if Ai == Bi:\n",
    "                result.append(np.kron(A[Ai], B[Bi]))\n",
    "\n",
    "    return np.array(result).T "
   ]
  },
  {
   "cell_type": "code",
   "execution_count": 10,
   "metadata": {},
   "outputs": [
    {
     "data": {
      "text/plain": [
       "array([[0, 0, 1, 0],\n",
       "       [1, 1, 1, 0]])"
      ]
     },
     "execution_count": 10,
     "metadata": {},
     "output_type": "execute_result"
    }
   ],
   "source": [
    "np.outer([1, 1], np.outer([0,  1], [1,  0])) + np.outer([0, 1], np.outer([1,  0], [1,  1]))"
   ]
  },
  {
   "cell_type": "code",
   "execution_count": 14,
   "metadata": {},
   "outputs": [],
   "source": [
    "A1 = np.array([[1,1],[0,1]])\n",
    "A2 = np.array([[0,1],[1,0]])\n",
    "A3 = np.array([[1,0],[1,1]])"
   ]
  },
  {
   "cell_type": "code",
   "execution_count": 19,
   "metadata": {},
   "outputs": [
    {
     "data": {
      "text/plain": [
       "array([[0, 0, 1, 0],\n",
       "       [1, 1, 1, 0]])"
      ]
     },
     "execution_count": 19,
     "metadata": {},
     "output_type": "execute_result"
    }
   ],
   "source": [
    "np.matmul(A3, khatri_rao(A2, A1).T)"
   ]
  },
  {
   "cell_type": "code",
   "execution_count": null,
   "metadata": {},
   "outputs": [],
   "source": []
  }
 ],
 "metadata": {
  "kernelspec": {
   "display_name": "Python 3",
   "language": "python",
   "name": "python3"
  },
  "language_info": {
   "codemirror_mode": {
    "name": "ipython",
    "version": 3
   },
   "file_extension": ".py",
   "mimetype": "text/x-python",
   "name": "python",
   "nbconvert_exporter": "python",
   "pygments_lexer": "ipython3",
   "version": "3.7.6"
  }
 },
 "nbformat": 4,
 "nbformat_minor": 4
}
